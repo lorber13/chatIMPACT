{
 "cells": [
  {
   "cell_type": "markdown",
   "metadata": {},
   "source": [
    "## Convert Lists in DB Arrays"
   ]
  },
  {
   "cell_type": "code",
   "execution_count": 1,
   "metadata": {},
   "outputs": [
    {
     "name": "stdout",
     "output_type": "stream",
     "text": [
      "Updated JSON data has been saved to final database\\ChatIMPACT.LargeLanguageModel.json\n"
     ]
    }
   ],
   "source": [
    "import json\n",
    "\n",
    "# Function to convert the language string to a list of strings\n",
    "def convert_language_to_list(language_str):\n",
    "    # Remove leading and trailing square brackets and split by comma\n",
    "    languages_list = language_str.strip(\"[]\").split(\", \")\n",
    "    # Remove any surrounding quotes and whitespace\n",
    "    return [lang.strip('\\\"').strip() for lang in languages_list]\n",
    "\n",
    "# Load the JSON file\n",
    "input_file_path = 'final database\\ChatIMPACT.LargeLanguageModel.json'\n",
    "output_file_path = 'final database\\ChatIMPACT.LargeLanguageModel.json'\n",
    "\n",
    "with open(input_file_path, 'r') as file:\n",
    "    models_data = json.load(file)\n",
    "\n",
    "# Convert the Language array from string to a proper list\n",
    "for model in models_data:\n",
    "    if isinstance(model.get(\"developers\"), str):\n",
    "        model[\"developers\"] = convert_language_to_list(model[\"developers\"])\n",
    "\n",
    "# Save the updated JSON data to a file\n",
    "with open(output_file_path, 'w') as json_file:\n",
    "    json.dump(models_data, json_file, indent=4)\n",
    "\n",
    "print(f\"Updated JSON data has been saved to {output_file_path}\")\n"
   ]
  },
  {
   "cell_type": "code",
   "execution_count": 19,
   "metadata": {},
   "outputs": [
    {
     "name": "stdout",
     "output_type": "stream",
     "text": [
      "Formatted data saved to json relazioni\\suitedFor.json\n"
     ]
    }
   ],
   "source": [
    "import json\n",
    "\n",
    "# Function to format the JSON data\n",
    "def format_json(data):\n",
    "    formatted_data = []\n",
    "    for item in data:\n",
    "        formatted_item = {\n",
    "            \"LargeLanguageModel\": item[\"LargeLanguageModel\"],\n",
    "            \"DownstreamTask\": [{\"$oid\": oid} for oid in item[\"DownstreamTask\"][\"$oid\"]]\n",
    "        }\n",
    "        formatted_data.append(formatted_item)\n",
    "    return formatted_data\n",
    "\n",
    "# Load the input JSON data\n",
    "input_file = 'json relazioni\\\\suitedFor.json'  # Replace with your actual input file path\n",
    "output_file = 'json relazioni\\\\suitedFor.json'  # Output file path\n",
    "\n",
    "with open(input_file, 'r') as file:\n",
    "    initial_data = json.load(file)\n",
    "\n",
    "# Format the JSON data\n",
    "formatted_data = format_json(initial_data)\n",
    "\n",
    "# Save the formatted data to a new JSON file\n",
    "with open(output_file, 'w') as file:\n",
    "    json.dump(formatted_data, file, indent=4)\n",
    "\n",
    "print(f\"Formatted data saved to {output_file}\")\n"
   ]
  },
  {
   "cell_type": "markdown",
   "metadata": {},
   "source": [
    "## Make Train Relationships"
   ]
  },
  {
   "cell_type": "code",
   "execution_count": 18,
   "metadata": {},
   "outputs": [
    {
     "name": "stdout",
     "output_type": "stream",
     "text": [
      "Relationships saved to train.json\n"
     ]
    }
   ],
   "source": [
    "import json\n",
    "\n",
    "# Load the JSON files\n",
    "with open('final database hf extracted/HuggingFace.Datasets.json', 'r') as f:\n",
    "    datasets = json.load(f)\n",
    "\n",
    "with open('final database hf extracted/HuggingFace.Models.json', 'r') as f:\n",
    "    models = json.load(f)\n",
    "\n",
    "with open('hf extracted json/ChatIMPACT.TrainRelationship.json', 'r') as f:\n",
    "    relationships = json.load(f)\n",
    "\n",
    "# Create a dictionary to quickly find dataset IDs by name\n",
    "dataset_dict = {dataset['name']: dataset['_id']['$oid'] for dataset in datasets}\n",
    "\n",
    "# Create a dictionary to find model IDs by name, allowing multiple entries per name\n",
    "model_dict = {}\n",
    "for model in models:\n",
    "    if model['name'] not in model_dict:\n",
    "        model_dict[model['name']] = []\n",
    "    model_dict[model['name']].append(model['_id']['$oid'])\n",
    "\n",
    "# Build the relationship structure\n",
    "output_relationships = []\n",
    "for relationship in relationships:\n",
    "    model_ids = model_dict.get(relationship[\"Models\"], [])\n",
    "    for model_id in model_ids:\n",
    "        if relationship[\"Datasets\"]:\n",
    "            dataset_ids = [dataset_dict.get(ds) for ds in relationship[\"Datasets\"]]\n",
    "            dataset_ids = [ds_id for ds_id in dataset_ids if ds_id]\n",
    "        else:\n",
    "            dataset_ids = []\n",
    "        for dataset_id in dataset_ids:\n",
    "            output_relationships.append({\n",
    "                \"LargeLanguageModel\": {\"$oid\": model_id},\n",
    "                \"Dataset\": {\"$oid\": dataset_id}\n",
    "            })\n",
    "\n",
    "# Save the modified relationships to a new JSON file\n",
    "output_file = 'train.json'\n",
    "with open(output_file, 'w') as f:\n",
    "    json.dump(output_relationships, f, indent=4)\n",
    "\n",
    "print(f\"Relationships saved to {output_file}\")"
   ]
  },
  {
   "cell_type": "markdown",
   "metadata": {},
   "source": [
    "## Make SuitedFor Relationships"
   ]
  },
  {
   "cell_type": "code",
   "execution_count": 19,
   "metadata": {},
   "outputs": [
    {
     "name": "stdout",
     "output_type": "stream",
     "text": [
      "Relationships saved to suitedFor.json\n"
     ]
    }
   ],
   "source": [
    "import json\n",
    "\n",
    "# Load the JSON files\n",
    "with open('final database hf extracted/HuggingFace.Downstram Tasks.json', 'r') as f:\n",
    "    tasks = json.load(f)\n",
    "\n",
    "with open('final database hf extracted/HuggingFace.Models.json', 'r') as f:\n",
    "    models = json.load(f)\n",
    "\n",
    "with open('hf extracted json/ChatIMPACT.SuitedForRelationship.json', 'r') as f:\n",
    "    relationships = json.load(f)\n",
    "\n",
    "# Create a dictionary to quickly find task IDs by name\n",
    "task_dict = {task['name']: task['_id']['$oid'] for task in tasks}\n",
    "\n",
    "# Create a dictionary to find model IDs by name, allowing multiple entries per name\n",
    "model_dict = {}\n",
    "for model in models:\n",
    "    if model['name'] not in model_dict:\n",
    "        model_dict[model['name']] = []\n",
    "    model_dict[model['name']].append(model['_id']['$oid'])\n",
    "\n",
    "# Build the relationship structure\n",
    "output_relationships = []\n",
    "for relationship in relationships:\n",
    "    model_ids = model_dict.get(relationship[\"LargeLanguageModel\"], [])\n",
    "    for model_id in model_ids:\n",
    "        if relationship[\"DownstreamTask\"]:\n",
    "            task_ids = [task_dict.get(ds) for ds in relationship[\"DownstreamTask\"]]\n",
    "            task_ids = [ds_id for ds_id in task_ids if ds_id]\n",
    "        else:\n",
    "            task_ids = []\n",
    "        for task_id in task_ids:\n",
    "            output_relationships.append({\n",
    "                \"LargeLanguageModel\": {\"$oid\": model_id},\n",
    "                \"DownstreamTask\": {\"$oid\": task_id}\n",
    "            })\n",
    "\n",
    "# Save the modified relationships to a new JSON file\n",
    "output_file = 'suitedFor.json'\n",
    "with open(output_file, 'w') as f:\n",
    "    json.dump(output_relationships, f, indent=4)\n",
    "\n",
    "print(f\"Relationships saved to {output_file}\")"
   ]
  },
  {
   "cell_type": "markdown",
   "metadata": {},
   "source": [
    "## Make Evaluated Relationships"
   ]
  },
  {
   "cell_type": "code",
   "execution_count": 1,
   "metadata": {},
   "outputs": [
    {
     "name": "stdout",
     "output_type": "stream",
     "text": [
      "Modified relationships saved to evaluated.json\n"
     ]
    }
   ],
   "source": [
    "import json\n",
    "\n",
    "# Load the JSON files\n",
    "with open('final database hf extracted/HuggingFace.Metrics.json', 'r') as f:\n",
    "    metrics = json.load(f)\n",
    "\n",
    "with open('final database hf extracted/HuggingFace.Models.json', 'r') as f:\n",
    "    models = json.load(f)\n",
    "\n",
    "with open('hf extracted json/ChatIMPACT.EvaluateRelationship.json', 'r') as f:\n",
    "    relationships = json.load(f)\n",
    "\n",
    "# Create a dictionary to quickly find metric IDs by name\n",
    "metric_dict = {metric['name']: metric['_id']['$oid'] for metric in metrics}\n",
    "\n",
    "# Create a dictionary to find model IDs by name, allowing multiple entries per name\n",
    "model_dict = {}\n",
    "for model in models:\n",
    "    if model['name'] not in model_dict:\n",
    "        model_dict[model['name']] = []\n",
    "    model_dict[model['name']].append(model['_id']['$oid'])\n",
    "\n",
    "# Build the relationship structure\n",
    "output_relationships = []\n",
    "for relationship in relationships:\n",
    "    model_ids = model_dict.get(relationship[\"LargeLanguageModel\"], [])\n",
    "    for model_id in model_ids:\n",
    "        if relationship[\"Metric\"]:\n",
    "            if isinstance(relationship[\"Metric\"], list):\n",
    "                metric_ids = [metric_dict.get(m) for m in relationship[\"Metric\"]]\n",
    "            else:\n",
    "                metric_ids = [metric_dict.get(relationship[\"Metric\"])]\n",
    "            metric_ids = [m_id for m_id in metric_ids if m_id]\n",
    "        else:\n",
    "            metric_ids = []\n",
    "        for metric_id in metric_ids:\n",
    "            output_relationships.append({\n",
    "                \"LargeLanguageModel\": {\"$oid\": model_id},\n",
    "                \"Metric\": {\"$oid\": metric_id}\n",
    "            })\n",
    "\n",
    "# Save the modified relationships to a new JSON file\n",
    "output_file = 'evaluated.json'\n",
    "with open(output_file, 'w') as f:\n",
    "    json.dump(output_relationships, f, indent=4)\n",
    "\n",
    "print(f\"Modified relationships saved to {output_file}\")"
   ]
  },
  {
   "cell_type": "markdown",
   "metadata": {},
   "source": [
    "## Make Enable Relationships"
   ]
  },
  {
   "cell_type": "code",
   "execution_count": 2,
   "metadata": {},
   "outputs": [
    {
     "name": "stdout",
     "output_type": "stream",
     "text": [
      "Modified relationships saved to enable.json\n"
     ]
    }
   ],
   "source": [
    "import json\n",
    "\n",
    "# Load the JSON files\n",
    "with open('final database hf extracted/HuggingFace.Datasets.json', 'r') as f:\n",
    "    datasets = json.load(f)\n",
    "\n",
    "with open('final database hf extracted/HuggingFace.Downstram Tasks.json', 'r') as f:\n",
    "    tasks = json.load(f)\n",
    "\n",
    "with open('hf extracted json/ChatIMPACT.EnableRelationship.json', 'r') as f:\n",
    "    relationships = json.load(f)\n",
    "\n",
    "# Create a dictionary to quickly find dataset IDs by name\n",
    "dataset_dict = {dataset['name']: dataset['_id']['$oid'] for dataset in datasets}\n",
    "\n",
    "# Create a dictionary to find task IDs by name\n",
    "task_dict = {task['name']: task['_id']['$oid'] for task in tasks}\n",
    "\n",
    "# Build the relationship structure\n",
    "output_relationships = []\n",
    "for relationship in relationships:\n",
    "    dataset_id = dataset_dict.get(relationship[\"Dataset\"])\n",
    "    if dataset_id:\n",
    "        if relationship[\"DownstreamTask\"]:\n",
    "            if isinstance(relationship[\"DownstreamTask\"], list):\n",
    "                task_ids = [task_dict.get(ds) for ds in relationship[\"DownstreamTask\"]]\n",
    "            else:\n",
    "                task_ids = [task_dict.get(relationship[\"DownstreamTask\"])]\n",
    "            task_ids = [ds_id for ds_id in task_ids if ds_id]\n",
    "        else:\n",
    "            task_ids = []\n",
    "        for task_id in task_ids:\n",
    "            output_relationships.append({\n",
    "                \"Dataset\": {\"$oid\": dataset_id},\n",
    "                \"DownstreamTask\": {\"$oid\": task_id}\n",
    "            })\n",
    "\n",
    "# Save the modified relationships to a new JSON file\n",
    "output_file = 'enable.json'\n",
    "with open(output_file, 'w') as f:\n",
    "    json.dump(output_relationships, f, indent=4)\n",
    "\n",
    "print(f\"Modified relationships saved to {output_file}\")"
   ]
  },
  {
   "cell_type": "markdown",
   "metadata": {},
   "source": [
    "## Make Assess Relationships"
   ]
  },
  {
   "cell_type": "code",
   "execution_count": 3,
   "metadata": {},
   "outputs": [
    {
     "name": "stdout",
     "output_type": "stream",
     "text": [
      "Modified relationships saved to asses.json\n"
     ]
    }
   ],
   "source": [
    "import json\n",
    "\n",
    "# Load the JSON files\n",
    "with open('final database hf extracted/HuggingFace.Metrics.json', 'r') as f:\n",
    "    metrics = json.load(f)\n",
    "\n",
    "with open('final database hf extracted/HuggingFace.Downstram Tasks.json', 'r') as f:\n",
    "    tasks = json.load(f)\n",
    "\n",
    "with open('hf extracted json/ChatIMPACT.AssessRelationship.json', 'r') as f:\n",
    "    relationships = json.load(f)\n",
    "\n",
    "# Create a dictionary to quickly find metric IDs by name\n",
    "metric_dict = {metric['name']: metric['_id']['$oid'] for metric in metrics}\n",
    "\n",
    "# Create a dictionary to find task IDs by name\n",
    "task_dict = {task['name']: task['_id']['$oid'] for task in tasks}\n",
    "\n",
    "# Build the relationship structure\n",
    "output_relationships = []\n",
    "for relationship in relationships:\n",
    "    task_id = task_dict.get(relationship[\"DownstreamTask\"])\n",
    "    if task_id:\n",
    "        if relationship[\"Metric\"]:\n",
    "            if isinstance(relationship[\"Metric\"], list):\n",
    "                metric_ids = [metric_dict.get(m) for m in relationship[\"Metric\"]]\n",
    "            else:\n",
    "                metric_ids = [metric_dict.get(relationship[\"Metric\"])]\n",
    "            metric_ids = [m_id for m_id in metric_ids if m_id]\n",
    "        else:\n",
    "            metric_ids = []\n",
    "        for metric_id in metric_ids:\n",
    "            output_relationships.append({\n",
    "                \"DownstreamTask\": {\"$oid\": task_id},\n",
    "                \"Metric\": {\"$oid\": metric_id}\n",
    "            })\n",
    "\n",
    "# Save the modified relationships to a new JSON file\n",
    "output_file = 'asses.json'\n",
    "with open(output_file, 'w') as f:\n",
    "    json.dump(output_relationships, f, indent=4)\n",
    "\n",
    "print(f\"Modified relationships saved to {output_file}\")"
   ]
  }
 ],
 "metadata": {
  "kernelspec": {
   "display_name": "base",
   "language": "python",
   "name": "python3"
  },
  "language_info": {
   "codemirror_mode": {
    "name": "ipython",
    "version": 3
   },
   "file_extension": ".py",
   "mimetype": "text/x-python",
   "name": "python",
   "nbconvert_exporter": "python",
   "pygments_lexer": "ipython3",
   "version": "3.11.9"
  }
 },
 "nbformat": 4,
 "nbformat_minor": 2
}
