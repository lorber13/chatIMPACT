{
 "cells": [
  {
   "cell_type": "markdown",
   "metadata": {},
   "source": [
    "## Convert Lists in DB Arrays"
   ]
  },
  {
   "cell_type": "code",
   "execution_count": 4,
   "metadata": {},
   "outputs": [
    {
     "name": "stdout",
     "output_type": "stream",
     "text": [
      "Updated JSON data has been saved to converted_datasets.json\n"
     ]
    }
   ],
   "source": [
    "import json\n",
    "\n",
    "# Function to convert the language string to a list of strings\n",
    "def convert_language_to_list(language_str):\n",
    "    # Remove leading and trailing square brackets and split by comma\n",
    "    languages_list = language_str.strip(\"[]\").split(\", \")\n",
    "    # Remove any surrounding quotes and whitespace\n",
    "    return [lang.strip('\\\"').strip() for lang in languages_list]\n",
    "\n",
    "# Load the JSON file\n",
    "input_file_path = 'converted_datasets.json'\n",
    "output_file_path = 'converted_datasets.json'\n",
    "\n",
    "with open(input_file_path, 'r') as file:\n",
    "    models_data = json.load(file)\n",
    "\n",
    "# Convert the Language array from string to a proper list\n",
    "for model in models_data:\n",
    "    if isinstance(model.get(\"Language (array(str))\"), str):\n",
    "        model[\"Language (array(str))\"] = convert_language_to_list(model[\"Language (array(str))\"])\n",
    "\n",
    "# Save the updated JSON data to a file\n",
    "with open(output_file_path, 'w') as json_file:\n",
    "    json.dump(models_data, json_file, indent=4)\n",
    "\n",
    "print(f\"Updated JSON data has been saved to {output_file_path}\")\n"
   ]
  },
  {
   "cell_type": "markdown",
   "metadata": {},
   "source": [
    "## Make Train Relationships"
   ]
  },
  {
   "cell_type": "code",
   "execution_count": 8,
   "metadata": {},
   "outputs": [
    {
     "name": "stdout",
     "output_type": "stream",
     "text": [
      "Modified relationships saved to train.json\n"
     ]
    }
   ],
   "source": [
    "import json\n",
    "\n",
    "# Load the JSON files\n",
    "with open('final database/ChatIMPACT.Dataset.json', 'r') as f:\n",
    "    datasets = json.load(f)\n",
    "\n",
    "with open('final database/ChatIMPACT.LargeLanguageModel.json', 'r') as f:\n",
    "    models = json.load(f)\n",
    "\n",
    "# Create a dictionary to quickly find dataset IDs by name\n",
    "dataset_dict = {dataset['Name']: dataset['_id']['$oid'] for dataset in datasets}\n",
    "\n",
    "# Create a dictionary to find model IDs by name, allowing multiple entries per name\n",
    "model_dict = {}\n",
    "for model in models:\n",
    "    if model['Name'] not in model_dict:\n",
    "        model_dict[model['Name']] = []\n",
    "    model_dict[model['Name']].append(model['_id']['$oid'])\n",
    "\n",
    "# Define the relationships\n",
    "relationships = [\n",
    "    {\"Model\": \"SaulLM7B\", \"Dataset\": [\"MultiLegalPile\", \"Europarl\"]},\n",
    "    {\"Model\": \"StarCoder\", \"Dataset\": \"The Stack v2\"},\n",
    "    {\"Model\": \"MEDITRON\", \"Dataset\": [\"GUIDELINES\", \"S2ORC\"]},\n",
    "    {\"Model\": \"Vicuna\", \"Dataset\": None},\n",
    "]\n",
    "\n",
    "# Build the relationship structure\n",
    "output_relationships = []\n",
    "for relationship in relationships:\n",
    "    model_ids = model_dict.get(relationship[\"Model\"], [])\n",
    "    for model_id in model_ids:\n",
    "        if relationship[\"Dataset\"]:\n",
    "            if isinstance(relationship[\"Dataset\"], list):\n",
    "                dataset_ids = [dataset_dict.get(ds) for ds in relationship[\"Dataset\"]]\n",
    "            else:\n",
    "                dataset_ids = [dataset_dict.get(relationship[\"Dataset\"])]\n",
    "            dataset_ids = [ds_id for ds_id in dataset_ids if ds_id]\n",
    "        else:\n",
    "            dataset_ids = []\n",
    "        output_relationships.append({\n",
    "            \"LargeLanguageModel\": {\"$oid\": model_id},\n",
    "            \"Dataset\": {\"$oid\": dataset_ids}\n",
    "        })\n",
    "\n",
    "# Save the modified relationships to a new JSON file\n",
    "output_file = 'train.json'\n",
    "with open(output_file, 'w') as f:\n",
    "    json.dump(output_relationships, f, indent=4)\n",
    "\n",
    "print(f\"Relationships saved to {output_file}\")"
   ]
  },
  {
   "cell_type": "markdown",
   "metadata": {},
   "source": [
    "## Make SuitedFor Relationships"
   ]
  },
  {
   "cell_type": "code",
   "execution_count": 20,
   "metadata": {},
   "outputs": [
    {
     "name": "stdout",
     "output_type": "stream",
     "text": [
      "Relationships saved to suitedFor.json\n"
     ]
    }
   ],
   "source": [
    "import json\n",
    "\n",
    "# Load the JSON files\n",
    "with open('final database/ChatIMPACT.DownstreamTask.json', 'r') as f:\n",
    "    tasks = json.load(f)\n",
    "\n",
    "with open('final database/ChatIMPACT.LargeLanguageModel.json', 'r') as f:\n",
    "    models = json.load(f)\n",
    "\n",
    "# Create a dictionary to quickly find task IDs by name\n",
    "task_dict = {task['Name']: task['_id']['$oid'] for task in tasks}\n",
    "\n",
    "# Create a dictionary to find model IDs by name, allowing multiple entries per name\n",
    "model_dict = {}\n",
    "for model in models:\n",
    "    if model['Name'] not in model_dict:\n",
    "        model_dict[model['Name']] = []\n",
    "    model_dict[model['Name']].append(model['_id']['$oid'])\n",
    "\n",
    "# Define the relationships\n",
    "relationships = [\n",
    "    {\"Model\": \"LLaMA\", \"DownstreamTask\": \"Question Answering\"},\n",
    "    {\"Model\": \"Code LLaMA\", \"DownstreamTask\": \"Code Generation\"},\n",
    "    {\"Model\": \"roberta-base-openai-detector\", \"DownstreamTask\": \"Text Classification\"},\n",
    "    {\"Model\": \"Mistral-Finetuned-DialogSumm\", \"DownstreamTask\": \"Summarization\"},\n",
    "    {\"Model\": \"RM-Mistral-7B\", \"DownstreamTask\": \"Text Classification\"},\n",
    "    {\"Model\": \"SaulLM7B\", \"DownstreamTask\": \"Question Answering, Summarization\"},\n",
    "    {\"Model\": \"MEDITRON\", \"DownstreamTask\": \"Question Answering\"},\n",
    "    {\"Model\": \"StarCoder\", \"DownstreamTask\": \"Code Generation\"}\n",
    "]\n",
    "\n",
    "\n",
    "# Build the relationship structure\n",
    "output_relationships = []\n",
    "for relationship in relationships:\n",
    "    model_ids = model_dict.get(relationship[\"Model\"], [])\n",
    "    for model_id in model_ids:\n",
    "        if relationship[\"DownstreamTask\"]:\n",
    "            if isinstance(relationship[\"DownstreamTask\"], list):\n",
    "                task_ids = [task_dict.get(ds) for ds in relationship[\"DownstreamTask\"]]\n",
    "            else:\n",
    "                task_ids = [task_dict.get(relationship[\"DownstreamTask\"])]\n",
    "            task_ids = [ds_id for ds_id in task_ids if ds_id]\n",
    "        else:\n",
    "            task_ids = []\n",
    "        output_relationships.append({\n",
    "            \"LargeLanguageModel\": {\"$oid\": model_id},\n",
    "            \"DownstreamTask\": {\"$oid\": task_ids}\n",
    "        })\n",
    "\n",
    "# Save the modified relationships to a new JSON file\n",
    "output_file = 'suitedFor.json'\n",
    "with open(output_file, 'w') as f:\n",
    "    json.dump(output_relationships, f, indent=4)\n",
    "\n",
    "print(f\"Relationships saved to {output_file}\")"
   ]
  },
  {
   "cell_type": "markdown",
   "metadata": {},
   "source": [
    "## Make Evaluated Relationships"
   ]
  },
  {
   "cell_type": "code",
   "execution_count": 28,
   "metadata": {},
   "outputs": [
    {
     "name": "stdout",
     "output_type": "stream",
     "text": [
      "Modified relationships saved to evaluated.json\n"
     ]
    }
   ],
   "source": [
    "import json\n",
    "\n",
    "# Load the JSON files\n",
    "with open('final database/ChatIMPACT.metric.json', 'r') as f:\n",
    "    metrics = json.load(f)\n",
    "\n",
    "with open('final database/ChatIMPACT.LargeLanguageModel.json', 'r') as f:\n",
    "    models = json.load(f)\n",
    "\n",
    "# Create a dictionary to quickly find metric IDs by name\n",
    "metric_dict = {metric['Name']: metric['_id']['$oid'] for metric in metrics}\n",
    "\n",
    "# Create a dictionary to find model IDs by name, allowing multiple entries per name\n",
    "model_dict = {}\n",
    "for model in models:\n",
    "    if model['Name'] not in model_dict:\n",
    "        model_dict[model['Name']] = []\n",
    "    model_dict[model['Name']].append(model['_id']['$oid'])\n",
    "\n",
    "# Define the relationships\n",
    "relationships = [\n",
    "    {\"Model\": \"SaulLM7B\", \"metric\": None} #TODO\n",
    "]\n",
    "\n",
    "# Build the relationship structure\n",
    "output_relationships = []\n",
    "for relationship in relationships:\n",
    "    model_ids = model_dict.get(relationship[\"Model\"], [])\n",
    "    for model_id in model_ids:\n",
    "        if relationship[\"metric\"]:\n",
    "            if isinstance(relationship[\"metric\"], list):\n",
    "                metric_ids = [metric_dict.get(ds) for ds in relationship[\"metric\"]]\n",
    "            else:\n",
    "                metric_ids = [metric_dict.get(relationship[\"metric\"])]\n",
    "            metric_ids = [ds_id for ds_id in metric_ids if ds_id]\n",
    "        else:\n",
    "            metric_ids = []\n",
    "        output_relationships.append({\n",
    "            \"LargeLanguageModel\": {\"$oid\": model_id},\n",
    "            \"Metric\": {\"$oid\": metric_ids}\n",
    "        })\n",
    "\n",
    "# Save the modified relationships to a new JSON file\n",
    "output_file = 'evaluated.json'\n",
    "with open(output_file, 'w') as f:\n",
    "    json.dump(output_relationships, f, indent=4)\n",
    "\n",
    "print(f\"Modified relationships saved to {output_file}\")"
   ]
  },
  {
   "cell_type": "markdown",
   "metadata": {},
   "source": [
    "## Make Enable Relationships"
   ]
  },
  {
   "cell_type": "code",
   "execution_count": 17,
   "metadata": {},
   "outputs": [
    {
     "name": "stdout",
     "output_type": "stream",
     "text": [
      "Modified relationships saved to enable.json\n"
     ]
    }
   ],
   "source": [
    "import json\n",
    "\n",
    "# Load the JSON files\n",
    "with open('final database/ChatIMPACT.Dataset.json', 'r') as f:\n",
    "    datasets = json.load(f)\n",
    "\n",
    "with open('final database/ChatIMPACT.DownstreamTask.json', 'r') as f:\n",
    "    tasks = json.load(f)\n",
    "\n",
    "# Create a dictionary to quickly find dataset IDs by name\n",
    "dataset_dict = {dataset['Name']: dataset['_id']['$oid'] for dataset in datasets}\n",
    "\n",
    "# Create a dictionary to find task IDs by name, allowing multiple entries per name\n",
    "task_dict = {tasks['Name']: tasks['_id']['$oid'] for tasks in tasks}\n",
    "\n",
    "# Define the relationships\n",
    "relationships = [\n",
    "    {\"Dataset\": \"MultiLegalPile\", \"DownstreamTask\": [\"Question Answering\", \"Summarization\"], },\n",
    "    {\"Dataset\": \"Europarl\", \"DownstreamTask\": [\"Question Answering\", \"Summarization\"], },\n",
    "    {\"Dataset\": \"The Stack v2\", \"DownstreamTask\": \"Code Generation\"},\n",
    "    {\"Dataset\": \"GUIDELINES\", \"DownstreamTask\": \"Question Answering\"},\n",
    "    {\"Dataset\": \"S2ORC\", \"DownstreamTask\": \"Question Answering\"}\n",
    "]\n",
    "\n",
    "# Build the relationship structure\n",
    "output_relationships = []\n",
    "for relationship in relationships:\n",
    "    dataset_id = dataset_dict.get(relationship[\"Dataset\"])\n",
    "    if dataset_id:\n",
    "        if relationship[\"DownstreamTask\"]:\n",
    "            if isinstance(relationship[\"DownstreamTask\"], list):\n",
    "                task_ids = [task_dict.get(ds) for ds in relationship[\"DownstreamTask\"]]\n",
    "            else:\n",
    "                task_ids = [task_dict.get(relationship[\"DownstreamTask\"])]\n",
    "            task_ids = [ds_id for ds_id in task_ids if ds_id]\n",
    "        else:\n",
    "            task_ids = None\n",
    "        output_relationships.append({\n",
    "            \"Dataset\": {\"$oid\": dataset_id}, \n",
    "            \"DownstreamTask\": {\"$oid\": task_ids},\n",
    "        })\n",
    "\n",
    "# Save the modified relationships to a new JSON file\n",
    "output_file = 'enable.json'\n",
    "with open(output_file, 'w') as f:\n",
    "    json.dump(output_relationships, f, indent=4)\n",
    "\n",
    "print(f\"Modified relationships saved to {output_file}\")"
   ]
  },
  {
   "cell_type": "markdown",
   "metadata": {},
   "source": [
    "## Make Assess Relationships"
   ]
  },
  {
   "cell_type": "code",
   "execution_count": 27,
   "metadata": {},
   "outputs": [
    {
     "name": "stdout",
     "output_type": "stream",
     "text": [
      "Modified relationships saved to asses.json\n"
     ]
    }
   ],
   "source": [
    "import json\n",
    "\n",
    "# Load the JSON files\n",
    "with open('final database/ChatIMPACT.Metric.json', 'r') as f:\n",
    "    metrics = json.load(f)\n",
    "\n",
    "with open('final database/ChatIMPACT.DownstreamTask.json', 'r') as f:\n",
    "    tasks = json.load(f)\n",
    "\n",
    "# Create a dictionary to quickly find metric IDs by name\n",
    "metric_dict = {metric['Name']: metric['_id']['$oid'] for metric in metrics}\n",
    "\n",
    "# Create a dictionary to find task IDs by name, allowing multiple entries per name\n",
    "task_dict = {tasks['Name']: tasks['_id']['$oid'] for tasks in tasks}\n",
    "\n",
    "# Define the relationships\n",
    "relationships = [\n",
    "    {\"metric\": \"chrF\",\"DownstreamTask\": \"Machine Translation\"},\n",
    "    {\"metric\": \"BLEU\", \"DownstreamTask\": \"Machine Translation\"},\n",
    "    {\"metric\": \"ROUGE\", \"DownstreamTask\": \"Summarization\"},\n",
    "    {\"metric\": \"METEOR\", \"DownstreamTask\": \"Machine Translation\"},\n",
    "    {\"metric\": \"Perplexity\", \"DownstreamTask\": \"Language Modeling\"},\n",
    "    {\"metric\": \"BERTScore\", \"DownstreamTask\": \"Text Generation\"}\n",
    "]\n",
    "\n",
    "# Build the relationship structure\n",
    "output_relationships = []\n",
    "for relationship in relationships:\n",
    "    metric_id = metric_dict.get(relationship[\"metric\"])\n",
    "    if metric_id:\n",
    "        if relationship[\"DownstreamTask\"]:\n",
    "            if isinstance(relationship[\"DownstreamTask\"], list):\n",
    "                task_ids = [task_dict.get(ds) for ds in relationship[\"DownstreamTask\"]]\n",
    "            else:\n",
    "                task_ids = [task_dict.get(relationship[\"DownstreamTask\"])]\n",
    "            task_ids = [ds_id for ds_id in task_ids if ds_id]\n",
    "        else:\n",
    "            task_ids = None\n",
    "        output_relationships.append({\n",
    "            \"Metric\": {\"$oid\": metric_id}, \n",
    "            \"DownstreamTask\": {\"$oid\": task_ids},\n",
    "        })\n",
    "\n",
    "# Save the modified relationships to a new JSON file\n",
    "output_file = 'asses.json'\n",
    "with open(output_file, 'w') as f:\n",
    "    json.dump(output_relationships, f, indent=4)\n",
    "\n",
    "print(f\"Modified relationships saved to {output_file}\")"
   ]
  }
 ],
 "metadata": {
  "kernelspec": {
   "display_name": "base",
   "language": "python",
   "name": "python3"
  },
  "language_info": {
   "codemirror_mode": {
    "name": "ipython",
    "version": 3
   },
   "file_extension": ".py",
   "mimetype": "text/x-python",
   "name": "python",
   "nbconvert_exporter": "python",
   "pygments_lexer": "ipython3",
   "version": "3.10.13"
  }
 },
 "nbformat": 4,
 "nbformat_minor": 2
}
