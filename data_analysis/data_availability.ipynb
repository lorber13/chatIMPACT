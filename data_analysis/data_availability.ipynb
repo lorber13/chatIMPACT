{
 "cells": [
  {
   "cell_type": "markdown",
   "metadata": {},
   "source": [
    "# Data availability"
   ]
  },
  {
   "cell_type": "code",
   "execution_count": 8,
   "metadata": {},
   "outputs": [],
   "source": [
    "import pandas as pd\n",
    "import json\n",
    "import os\n",
    "import matplotlib.pyplot as plt"
   ]
  },
  {
   "cell_type": "code",
   "execution_count": 3,
   "metadata": {},
   "outputs": [],
   "source": [
    "current_path = os.getcwd()\n",
    "parent_path = os.path.dirname(current_path)\n",
    "result_path = os.path.join(parent_path, 'database', 'HF entries', 'hf extracted json')"
   ]
  },
  {
   "cell_type": "markdown",
   "metadata": {},
   "source": [
    "## LLMs"
   ]
  },
  {
   "cell_type": "code",
   "execution_count": 2,
   "metadata": {},
   "outputs": [],
   "source": [
    "# Read JSON and count available attributes\n",
    "\n",
    "def models_statistics(file_name):\n",
    "\n",
    "\tname_count = 0\n",
    "\tversion_count = 0\n",
    "\tnumber_of_parameters_count = 0\n",
    "\tquantization_count = 0\n",
    "\tarchitecture_count = 0\n",
    "\tlanguages_count = 0\n",
    "\tmodel_creator_count = 0\n",
    "\tlicense_count = 0\n",
    "\tlibrary_count = 0\n",
    "\tcontext_length_count = 0\n",
    "\tdevelopers_count = 0\n",
    "\topen_source_count = 0\n",
    "\turi_count = 0\n",
    "\tfinetuned_count = 0\n",
    "\tcarbon_emission_count = 0\n",
    "\ttokenizer_count = 0\n",
    "\tlikes_count = 0\n",
    "\tdownloads_count = 0\n",
    "\n",
    "\tmodels_json = open(os.path.join(result_path, file_name))\n",
    "\tmodels_data_json = json.load(models_json)\n",
    "\n",
    "\tmodels_df = pd.DataFrame(models_data_json) \n",
    "\n",
    "\t# TODO: add more attributes (?)\n",
    "\tfor idx, item in enumerate(models_data_json):\n",
    "\t\tif item['name'] is not None:\n",
    "\t\t\tname_count += 1\n",
    "\t\tif item['version'] is not None:\n",
    "\t\t\tversion_count += 1\n",
    "\t\tif item['numberOfParameters'] is not None:\n",
    "\t\t\tnumber_of_parameters_count += 1\n",
    "\t\tif item['quantization'] is not None:\n",
    "\t\t\tquantization_count += 1\n",
    "\t\tif item['architecture'] is not None:\n",
    "\t\t\tarchitecture_count += 1\n",
    "\t\tif len(item['languages']) > 0:\n",
    "\t\t\tlanguages_count += 1\n",
    "\t\tif item['modelCreator'] is not None:\n",
    "\t\t\tmodel_creator_count += 1\n",
    "\t\tif item['licenseToUse'] is not None:\n",
    "\t\t\tlicense_count += 1\n",
    "\t\tif len(item['libraryFramework']) > 0:\n",
    "\t\t\tlibrary_count += 1\n",
    "\t\tif item['contextLength'] is not None:\n",
    "\t\t\tcontext_length_count += 1\n",
    "\t\tif len(item['developers']) > 0:\n",
    "\t\t\tdevelopers_count += 1\n",
    "\t\tif item['openSource'] is not None:\n",
    "\t\t\topen_source_count += 1\n",
    "\t\tif item['uri'] is not None:\n",
    "\t\t\turi_count += 1\n",
    "\t\tif item['fineTuned'] is not None:\n",
    "\t\t\tfinetuned_count += 1\n",
    "\t\tif item['carbonEmission [CO2eq tons]'] is not None:\n",
    "\t\t\tcarbon_emission_count += 1\n",
    "\t\tif item['tokenizer'] is not None:\n",
    "\t\t\ttokenizer_count += 1\n",
    "\t\tif item['likes'] is not None:\n",
    "\t\t\tlikes_count += 1\n",
    "\t\tif item['downloads'] is not None:\n",
    "\t\t\tdownloads_count += 1\n",
    "\t\n",
    "\ttotal_models = idx + 1\n",
    "\n",
    "\tprint(f'Number of processed models: {total_models}')\n",
    "\tprint(f'    Name: {name_count} ({(name_count / total_models) * 100:.2f}%)')\n",
    "\tprint(f'    Version: {version_count} ({(version_count / total_models) * 100:.2f}%)')\n",
    "\tprint(f'    Number of Parameters: {number_of_parameters_count} ({(number_of_parameters_count / total_models) * 100:.2f}%)')\n",
    "\tprint(f'    Quantization: {quantization_count} ({(quantization_count / total_models) * 100:.2f}%)')\n",
    "\tprint(f'    Architecture: {architecture_count} ({(architecture_count / total_models) * 100:.2f}%)')\n",
    "\tprint(f'    Languages: {languages_count} ({(languages_count / total_models) * 100:.2f}%)')\n",
    "\tprint(f'    Model creator: {model_creator_count} ({(model_creator_count / total_models) * 100:.2f}%)')\n",
    "\tprint(f'    License to use: {license_count} ({(license_count / total_models) * 100:.2f}%)')\n",
    "\tprint(f'    Library: {library_count} ({(library_count / total_models) * 100:.2f}%)')\n",
    "\tprint(f'    Context Length: {context_length_count} ({(context_length_count / total_models) * 100:.2f}%)')\n",
    "\tprint(f'    Developers: {developers_count} ({(developers_count / total_models) * 100:.2f}%)')\n",
    "\tprint(f'    Open Source: {open_source_count} ({(open_source_count / total_models) * 100:.2f}%)')\n",
    "\tprint(f'    URI: {uri_count} ({(uri_count / total_models) * 100:.2f}%)')\n",
    "\tprint(f'    Fine-tuned: {finetuned_count} ({(finetuned_count / total_models) * 100:.2f}%)')\n",
    "\tprint(f'    Carbon emission: {carbon_emission_count} ({(carbon_emission_count / total_models) * 100:.2f}%)')\n",
    "\tprint(f'    Tokenizer: {tokenizer_count} ({(tokenizer_count / total_models) * 100:.2f}%)')\n",
    "\tprint(f'    Likes: {likes_count} ({(likes_count / total_models) * 100:.2f}%)')\n",
    "\tprint(f'    Downloads: {downloads_count} ({(downloads_count / total_models) * 100:.2f}%)')\n",
    "\n",
    "\treturn\n",
    "\n"
   ]
  },
  {
   "cell_type": "code",
   "execution_count": 3,
   "metadata": {},
   "outputs": [
    {
     "name": "stdout",
     "output_type": "stream",
     "text": [
      "Number of processed models: 269335\n",
      "    Name: 269335 (100.00%)\n",
      "    Version: 0 (0.00%)\n",
      "    Number of Parameters: 0 (0.00%)\n",
      "    Quantization: 14858 (5.52%)\n",
      "    Architecture: 54173 (20.11%)\n",
      "    Languages: 56937 (21.14%)\n",
      "    Model creator: 30300 (11.25%)\n",
      "    License to use: 113658 (42.20%)\n",
      "    Library: 267201 (99.21%)\n",
      "    Context Length: 0 (0.00%)\n",
      "    Developers: 269335 (100.00%)\n",
      "    Open Source: 269335 (100.00%)\n",
      "    URI: 49211 (18.27%)\n",
      "    Fine-tuned: 54173 (20.11%)\n",
      "    Carbon emission: 1580 (0.59%)\n",
      "    Tokenizer: 0 (0.00%)\n",
      "    Likes: 269335 (100.00%)\n",
      "    Downloads: 269335 (100.00%)\n"
     ]
    }
   ],
   "source": [
    "models_statistics('models.json')"
   ]
  },
  {
   "cell_type": "markdown",
   "metadata": {},
   "source": [
    "## Datasets"
   ]
  },
  {
   "cell_type": "code",
   "execution_count": 4,
   "metadata": {},
   "outputs": [],
   "source": [
    "# Read JSON and count available attributes\n",
    "\n",
    "def datasets_statistics(file_name):\n",
    "\n",
    "\tname_count = 0\n",
    "\tsize_count = 0\n",
    "\tlanguages_count = 0\n",
    "\tlicense_count = 0\n",
    "\tdomain_count = 0\n",
    "\turi_count = 0\n",
    "\tfinetuning_count = 0\n",
    "\n",
    "\tdatasets_json = open(os.path.join(result_path, file_name))\n",
    "\tdatasets_data_json = json.load(datasets_json)\n",
    "\n",
    "\tfor idx, item in enumerate(datasets_data_json):\n",
    "\t\tif item['name'] is not None:\n",
    "\t\t\tname_count += 1\n",
    "\t\tif item['size [rows]'] is not None: # can be size [GB] or size [rows]\n",
    "\t\t\tsize_count += 1\n",
    "\t\tif len(item['languages']) > 0:\n",
    "\t\t\tlanguages_count += 1\t\n",
    "\t\tif item['licenseToUse'] is not None:\t\n",
    "\t\t\tlicense_count += 1\n",
    "\t\tif len(item['domain']) > 0:\n",
    "\t\t\tdomain_count += 1\t\n",
    "\t\tif item['uri'] is not None:\n",
    "\t\t\turi_count += 1\n",
    "\t\tif item['fineTuning'] is not None:\n",
    "\t\t\tfinetuning_count += 1\n",
    "\t\n",
    "\ttotal_datasets = idx + 1\t\n",
    "\tprint(f'Number of processed datasets: {total_datasets}')\n",
    "\tprint(f'    Name: {name_count} ({(name_count / total_datasets) * 100:.2f}%)')\n",
    "\tprint(f'    Size: {size_count} ({(size_count / total_datasets) * 100:.2f}%)')\n",
    "\tprint(f'    Languages: {languages_count} ({(languages_count / total_datasets) * 100:.2f}%)')\n",
    "\tprint(f'    License to use: {license_count} ({(license_count / total_datasets) * 100:.2f}%)')\n",
    "\tprint(f'    Domain: {domain_count} ({(domain_count / total_datasets) * 100:.2f}%)')\n",
    "\tprint(f'    URI: {uri_count} ({(uri_count / total_datasets) * 100:.2f}%)')\n",
    "\tprint(f'    Fine-tuning: {finetuning_count} ({(finetuning_count / total_datasets) * 100:.2f}%)')\n",
    "\n",
    "\treturn"
   ]
  },
  {
   "cell_type": "code",
   "execution_count": 6,
   "metadata": {},
   "outputs": [
    {
     "name": "stdout",
     "output_type": "stream",
     "text": [
      "\n",
      "Number of processed datasets: 489\n",
      "    Name: 489 (100.00%)\n",
      "    Size: 445 (91.00%)\n",
      "    Languages: 464 (94.89%)\n",
      "    License to use: 464 (94.89%)\n",
      "    Domain: 23 (4.70%)\n",
      "    URI: 103 (21.06%)\n",
      "    Fine-tuning: 0 (0.00%)\n"
     ]
    }
   ],
   "source": [
    "datasets_statistics('datasets.json')"
   ]
  },
  {
   "cell_type": "markdown",
   "metadata": {},
   "source": [
    "## DownstreamTasks"
   ]
  },
  {
   "cell_type": "code",
   "execution_count": 11,
   "metadata": {},
   "outputs": [],
   "source": [
    "# Read JSON and count available attributes\n",
    "\n",
    "def tasks_statistics(file_name):\n",
    "\tname_count = 0\n",
    "\tdescription_count = 0\n",
    "\tsub_task_count = 0\n",
    "\n",
    "\ttask_json = open(os.path.join(result_path, file_name))\n",
    "\ttask_data_json = json.load(task_json)\n",
    "\n",
    "\tfor idx, item in enumerate(task_data_json):\n",
    "\t\tif item['name'] is not None:\n",
    "\t\t\tname_count += 1\t\n",
    "\t\tif item['description'] is not None:\n",
    "\t\t\tdescription_count += 1\n",
    "\t\tif len(item['sub-task']) > 0:\n",
    "\t\t\tsub_task_count += 1\n",
    "\t\n",
    "\ttask_count = idx + 1\n",
    "\tprint(f'Number of processed task: {idx + 1}')\n",
    "\tprint(f'    Name: {name_count} ({(name_count / task_count) * 100:.2f}%)')\n",
    "\tprint(f'    Description: {description_count} ({(description_count / task_count) * 100:.2f}%)')\n",
    "\tprint(f'    Sub-task: {sub_task_count} ({(sub_task_count / task_count) * 100:.2f}%)')\n",
    "\n",
    "\treturn\n"
   ]
  },
  {
   "cell_type": "code",
   "execution_count": 12,
   "metadata": {},
   "outputs": [
    {
     "name": "stdout",
     "output_type": "stream",
     "text": [
      "Number of processed task: 11\n",
      "    Name: 11 (100.00%)\n",
      "    Description: 11 (100.00%)\n",
      "    Sub-task: 0 (0.00%)\n"
     ]
    }
   ],
   "source": [
    "tasks_statistics('downstreamtasks.json')"
   ]
  },
  {
   "cell_type": "markdown",
   "metadata": {},
   "source": [
    "## Metrics"
   ]
  },
  {
   "cell_type": "code",
   "execution_count": 15,
   "metadata": {},
   "outputs": [],
   "source": [
    "# Read JSON and count available attributes\n",
    "\n",
    "def metric_statistics(file_name):\n",
    "\tname_count = 0\n",
    "\tdescription_count = 0\n",
    "\tcontext_count = 0\n",
    "\tfeatureBased_endToEnd_count = 0\n",
    "\tgranularity_count = 0\n",
    "\n",
    "\tmetric_json = open(os.path.join(result_path, file_name))\n",
    "\tmetric_data_json = json.load(metric_json)\n",
    "\n",
    "\tfor idx, item in enumerate(metric_data_json):\n",
    "\t\tif item['name'] is not None:\n",
    "\t\t\tname_count += 1\n",
    "\t\tif item['description'] is not None:\n",
    "\t\t\tdescription_count += 1\n",
    "\t\tif item['context'] is not None:\n",
    "\t\t\tcontext_count += 1\n",
    "\t\tif item['featureBased/endToEnd'] is not None:\n",
    "\t\t\tfeatureBased_endToEnd_count += 1\n",
    "\t\tif item['granularity'] is not None:\t\n",
    "\t\t\tgranularity_count += 1\n",
    "\t\n",
    "\ttotal_datasets = idx + 1\n",
    "\n",
    "\tprint(f'Number of processed metrics: {total_datasets}')\n",
    "\tprint(f'    Name: {name_count} ({(name_count / total_datasets) * 100:.2f}%)')\n",
    "\tprint(f'    Description: {description_count} ({(description_count / total_datasets) * 100:.2f}%)')\n",
    "\tprint(f'    Context: {context_count} ({(context_count / total_datasets) * 100:.2f}%)')\n",
    "\tprint(f'    FeatureBased/endToEnd: {featureBased_endToEnd_count} ({(featureBased_endToEnd_count / total_datasets) * 100:.2f}%)')\n",
    "\tprint(f'    Granularity: {granularity_count} ({(granularity_count / total_datasets) * 100:.2f}%)')\n",
    "\t\n",
    "\treturn\n"
   ]
  },
  {
   "cell_type": "code",
   "execution_count": 16,
   "metadata": {},
   "outputs": [
    {
     "name": "stdout",
     "output_type": "stream",
     "text": [
      "Number of processed metrics: 274\n",
      "    Name: 274 (100.00%)\n",
      "    Description: 202 (73.72%)\n",
      "    Context: 0 (0.00%)\n",
      "    FeatureBased/endToEnd: 0 (0.00%)\n",
      "    Granularity: 0 (0.00%)\n"
     ]
    }
   ],
   "source": [
    "metric_statistics('metrics.json')"
   ]
  },
  {
   "cell_type": "markdown",
   "metadata": {},
   "source": [
    "## Relationships"
   ]
  },
  {
   "cell_type": "code",
   "execution_count": 4,
   "metadata": {},
   "outputs": [
    {
     "name": "stdout",
     "output_type": "stream",
     "text": [
      "Number of train relationships: 33622\n",
      "Number of suitedFor relationships: 236295\n",
      "Number of enable relationships: 487\n",
      "Number of assess relationships: 11\n",
      "Number of evaluate relationships: 28645\n"
     ]
    }
   ],
   "source": [
    "train_json = open(os.path.join(result_path, 'train.json'))\n",
    "train_data_json = json.load(train_json)\n",
    "print(f'Number of train relationships: {len(train_data_json)}')\n",
    "\n",
    "suited_for_json = open(os.path.join(result_path, 'suited_for.json'))\n",
    "suited_for_data_json = json.load(suited_for_json)\n",
    "print(f'Number of suitedFor relationships: {len(suited_for_data_json)}')\n",
    "\n",
    "enable_json = open(os.path.join(result_path, 'enable.json'))\n",
    "enable_data_json = json.load(enable_json)\n",
    "print(f'Number of enable relationships: {len(enable_data_json)}')\n",
    "\n",
    "assess_json = open(os.path.join(result_path, 'assess.json'))\n",
    "assess_data_json = json.load(assess_json)\n",
    "print(f'Number of assess relationships: {len(assess_data_json)}')\n",
    "\n",
    "evaluate_json = open(os.path.join(result_path, 'evaluate.json'))\n",
    "evaluate_data_json = json.load(evaluate_json)\n",
    "print(f'Number of evaluate relationships: {len(evaluate_data_json)}')"
   ]
  },
  {
   "cell_type": "code",
   "execution_count": 20,
   "metadata": {},
   "outputs": [],
   "source": [
    "# Count how many datasets are associated with each model in the train relationship\n",
    "\n",
    "def train_relationship_statistics(file_name):\n",
    "\n",
    "\ttrain_json = open(os.path.join(result_path, file_name))\n",
    "\ttrain_data_json = json.load(train_json)\n",
    "\n",
    "\tcounter = dict()\n",
    "\t\n",
    "\tfor idx, item in enumerate(train_data_json):\n",
    "\t\tn_datasets = len(item['Datasets'])\n",
    "\t\t\n",
    "\t\tif n_datasets in counter:\n",
    "\t\t\tcounter[n_datasets] += 1\n",
    "\t\telse:\n",
    "\t\t\tcounter[n_datasets] = 1\n",
    "\n",
    "\treturn counter"
   ]
  },
  {
   "cell_type": "code",
   "execution_count": 21,
   "metadata": {},
   "outputs": [],
   "source": [
    "counter_train = train_relationship_statistics('train.json')"
   ]
  },
  {
   "cell_type": "code",
   "execution_count": 19,
   "metadata": {},
   "outputs": [
    {
     "data": {
      "image/png": "[encoded data removed]",
      "text/plain": [
       "<Figure size 640x480 with 1 Axes>"
      ]
     },
     "metadata": {},
     "output_type": "display_data"
    }
   ],
   "source": [
    "# Plot histogram of number of datasets associated with each model in the train relationship\n",
    "plt.bar(counter_train.keys(), counter_train.values())\n",
    "plt.xlabel('Number of datasets')\n",
    "plt.ylabel('Number of models')\n",
    "plt.title('Number of datasets associated with each model in the train relationship')\n",
    "plt.xlim(0, 20)\n",
    "plt.show()"
   ]
  }
 ],
 "metadata": {
  "kernelspec": {
   "display_name": "base",
   "language": "python",
   "name": "python3"
  },
  "language_info": {
   "codemirror_mode": {
    "name": "ipython",
    "version": 3
   },
   "file_extension": ".py",
   "mimetype": "text/x-python",
   "name": "python",
   "nbconvert_exporter": "python",
   "pygments_lexer": "ipython3",
   "version": "3.12.4"
  }
 },
 "nbformat": 4,
 "nbformat_minor": 2
}
